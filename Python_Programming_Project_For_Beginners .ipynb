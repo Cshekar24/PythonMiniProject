{
 "cells": [
  {
   "cell_type": "markdown",
   "metadata": {},
   "source": [
    "## <center>Introduction to Python Programming – Mini Project:</center>\n"
   ]
  },
  {
   "cell_type": "markdown",
   "metadata": {},
   "source": [
    "### Problem Statement:\n",
    "\n",
    "1. Write a program to calculate area of shapes. Your program should be capable of calculating the area of a square, rectangle, triangle and a circle. The user should be presented with options to select the shape. Based on which shape is chosed by the user, the program should ask for the appropriate input and print the resulting area on the screen.\n",
    "\n",
    "When the program is run, the screen should display something like this:\n",
    "\n",
    "**Which shape would you like to calculate the area for? Please enter the option number-**<br>\n",
    "**1. Square**<br>\n",
    "**2. Rectangle**<br>\n",
    "**3. Triangle**<br>\n",
    "**4. Circle**<br>\n",
    "**Enter Option: _**\n",
    "\n",
    "Say the user enters the option 1.\n",
    "\n",
    "**Please enter the length of a side: _**\n",
    "\n",
    "If the user enters a value of 5. The output should be:\n",
    "\n",
    "**The area of the square is 25**\n",
    "\n",
    "This program should indicate that the input is invalid if the user enters a character instead of a number as input. For instance if the user enters a value of ‘a’ instead of 5 in the previous example the program should prompt:\n",
    "\n",
    "**Invalid input, please enter a number: _**\n"
   ]
  },
  {
   "cell_type": "code",
   "execution_count": 28,
   "metadata": {},
   "outputs": [
    {
     "name": "stdout",
     "output_type": "stream",
     "text": [
      "Which shape you would like to calculate the area for? Please enter the option \n",
      "1.Square \n",
      "2.Rectangle \n",
      "3.Triangle \n",
      "4.Circle\n",
      "Enter option: 1\n",
      "Please enter the length of a side: a\n",
      "Invalid input, please enter a number\n",
      "Enter option: 2\n",
      "Please enter the length of a side: a\n",
      "Invalid input, please enter a number\n",
      "Enter option: 2\n",
      "Please enter the length of a side: 5\n",
      "Please enter the breadth of a side: 6\n",
      "The area of the Rectangle is  30\n"
     ]
    }
   ],
   "source": [
    "print(\"Which shape you would like to calculate the area for? Please enter the option \\n1.Square \\n2.Rectangle \\n3.Triangle \\n4.Circle\")\n",
    "\n",
    "def test():\n",
    "    try:\n",
    "        num=int(input(\"Enter option: \"))\n",
    "    \n",
    "        if num in range(1,5):\n",
    "            if num==1:\n",
    "                a=int(input(\"Please enter the length of a side: \"))\n",
    "                print(\"The area of the Sqaure is \", a*a)\n",
    "\n",
    "            elif num==2:\n",
    "                a=int(input(\"Please enter the length of a side: \"))\n",
    "                b=int(input(\"Please enter the breadth of a side: \"))\n",
    "                print(\"The area of the Rectangle is \", a*b)\n",
    "\n",
    "            elif num==3:\n",
    "                h=int(input(\"Please enter the height of a triangle: \"))\n",
    "                b=int(input(\"Please enter the base of a triangle: \"))\n",
    "                print(\"The area of the Triangle is \", (h*b)/2)\n",
    "\n",
    "            elif num==4:\n",
    "                a=int(input(\"Please enter the radius of a circle: \"))\n",
    "                print(\"The area of the Circle is \", 3.14*a**2)\n",
    "\n",
    "    except:\n",
    "        print(\"Invalid input, please enter a number\")\n",
    "        return test()\n",
    "\n",
    "test()"
   ]
  },
  {
   "cell_type": "code",
   "execution_count": null,
   "metadata": {},
   "outputs": [],
   "source": []
  }
 ],
 "metadata": {
  "kernelspec": {
   "display_name": "Python 3",
   "language": "python",
   "name": "python3"
  },
  "language_info": {
   "codemirror_mode": {
    "name": "ipython",
    "version": 3
   },
   "file_extension": ".py",
   "mimetype": "text/x-python",
   "name": "python",
   "nbconvert_exporter": "python",
   "pygments_lexer": "ipython3",
   "version": "3.7.4"
  }
 },
 "nbformat": 4,
 "nbformat_minor": 2
}
